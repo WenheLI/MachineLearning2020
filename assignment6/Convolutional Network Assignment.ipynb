{
 "cells": [
  {
   "cell_type": "markdown",
   "metadata": {},
   "source": [
    "## Neural Network Assignment: Image Classification on MNIST\n",
    "In this assignment, you will design and implement first a multi-layer perceptron model and then a convolutional network model in Pytorch. We will use the CIFAR-10 image dataset. Please complete the rest of the notebook by doing the following tasks.\n",
    "\n",
    "- Build your network (A MLP model and a CONVNET model). There are some requirements on the network structure, please check the corresponding code sections. \n",
    "- Train your network. \n",
    "- Describe your training procedure. Plot the following:\n",
    "    1. Training and validation loss vs. training iterations.\n",
    "    2. Training and validation accuracy vs. training iterations.\n",
    "- Report a final test result on 10000 separate testing examples.\n",
    "- Give detailed explanation of your code\n",
    "\n",
    "You can follow the skeleton code in the notebook to proceed. Look for the ##TODO## mark, that's where you should write your code. \n",
    "\n",
    "Check Pytorch documentation for reference: https://pytorch.org/tutorials/"
   ]
  },
  {
   "cell_type": "markdown",
   "metadata": {},
   "source": [
    "## 1.1 Download data\n",
    "From this website: https://www.cs.toronto.edu/~kriz/cifar.html\n",
    "Download the CIFAR-10 python version, which is 163 MB. \n",
    "Extract the file you downloaded, you should be able to see a folder named cifar-10-batches-py. The data files are inside. ('data_batch_1', 'data_batch_2', etc..). To make things easier put these data files in a new folder called 'cifar-10-data'. The folder 'cifar-10-data' should be in the same directory as your jupyter notebook. Now we load the data into memory. \n",
    "\n",
    "# TODO you should download data"
   ]
  },
  {
   "cell_type": "markdown",
   "metadata": {},
   "source": [
    "## 1.2 Loading Data: you should read the website's data description and have a better understanding of the data (quote):\n",
    "Loaded in this way, each of the batch files contains a dictionary with the following elements:\n",
    "data -- a 10000x3072 numpy array of uint8s. Each row of the array stores a 32x32 colour image. The first 1024 entries contain the red channel values, the next 1024 the green, and the final 1024 the blue. The image is stored in row-major order, so that the first 32 entries of the array are the red channel values of the first row of the image.\n",
    "labels -- a list of 10000 numbers in the range 0-9. The number at index i indicates the label of the ith image in the array data.\n",
    "\n",
    "The dataset contains another file, called batches.meta. It too contains a Python dictionary object. It has the following entries:\n",
    "label_names -- a 10-element list which gives meaningful names to the numeric labels in the labels array described above. For example, label_names[0] == \"airplane\", label_names[1] == \"automobile\", etc.\n"
   ]
  },
  {
   "cell_type": "code",
   "execution_count": 3,
   "metadata": {},
   "outputs": [],
   "source": [
    "import numpy as np\n",
    "import torch\n",
    "import torch.nn as nn\n",
    "import torch.optim as optim\n",
    "import torch.nn.functional as F"
   ]
  },
  {
   "cell_type": "code",
   "execution_count": 4,
   "metadata": {},
   "outputs": [],
   "source": [
    "device = torch.device(\"cuda:0\" if torch.cuda.is_available() else \"cpu\")\n",
    "\n",
    "## follow the instructions on the website\n",
    "def unpickle(file):\n",
    "    ## used to read binary files since our data files are in binary format\n",
    "    import pickle\n",
    "    with open(file, 'rb') as fo:\n",
    "        dict = pickle.load(fo, encoding='bytes')\n",
    "    return dict"
   ]
  },
  {
   "cell_type": "code",
   "execution_count": 5,
   "metadata": {},
   "outputs": [],
   "source": [
    "## loading data from binary data files\n",
    "batch_1_dictionary = unpickle('cifar-10-data/data_batch_1')\n",
    "batch_2_dictionary = unpickle('cifar-10-data/data_batch_2')"
   ]
  },
  {
   "cell_type": "code",
   "execution_count": 6,
   "metadata": {},
   "outputs": [
    {
     "data": {
      "text/plain": [
       "dict_keys([b'batch_label', b'labels', b'data', b'filenames'])"
      ]
     },
     "execution_count": 6,
     "metadata": {},
     "output_type": "execute_result"
    }
   ],
   "source": [
    "batch_1_dictionary.keys()"
   ]
  },
  {
   "cell_type": "code",
   "execution_count": 7,
   "metadata": {},
   "outputs": [],
   "source": [
    "## get training, validation and testing sets\n",
    "X_train_all = np.array(batch_1_dictionary[b'data']).reshape(10000,3,32,32)\n",
    "y_train_all = np.array(batch_1_dictionary[b'labels'])\n",
    "validation_count = 1000\n",
    "train_count = X_train_all.shape[0]-1000\n",
    "X_train = X_train_all[:train_count]\n",
    "y_train = y_train_all[:train_count]\n",
    "X_val = X_train_all[train_count:]\n",
    "y_val = y_train_all[train_count:]\n",
    "X_test = np.array(batch_2_dictionary[b'data']).reshape(10000,3,32,32)\n",
    "y_test = np.array(batch_2_dictionary[b'labels'])"
   ]
  },
  {
   "cell_type": "code",
   "execution_count": 8,
   "metadata": {},
   "outputs": [
    {
     "data": {
      "text/plain": [
       "((9000, 3, 32, 32),\n",
       " (9000,),\n",
       " (1000, 3, 32, 32),\n",
       " (1000,),\n",
       " (10000, 3, 32, 32),\n",
       " (10000,))"
      ]
     },
     "execution_count": 8,
     "metadata": {},
     "output_type": "execute_result"
    }
   ],
   "source": [
    "X_train.shape, y_train.shape, X_val.shape, y_val.shape, X_test.shape, y_test.shape"
   ]
  },
  {
   "cell_type": "markdown",
   "metadata": {},
   "source": [
    "## 1.3 Preprocess Data\n",
    "Typically public datasets have some kind of data description or manual that we can use to gain basic understanding of the dataset. You should always try to look for such things and utilize them before you start processing the data. We now want to preprocess the data. \n",
    "\n",
    "We now want to do a data normalization. (Do you still remember why data normalization is important? Refer to Normalizing Input in first week of Improving Deep Neural Networks: Hyperparameter tuning, Regularization and Optimization)\n",
    "You can typically just do the minus by mean and divide by std normalization. But since we are dealing with image data, we can use another type of data normalization: simply divide by 255 to bring all features to the range (0,1).  (Think about why the number 255?) There are different ways to normalize data, feel free to try more options if you are interested. \n",
    "\n",
    "# TODO \n",
    "write your data normalization function here"
   ]
  },
  {
   "cell_type": "code",
   "execution_count": 9,
   "metadata": {},
   "outputs": [],
   "source": [
    "# for RGB data we can simply divide by 255\n",
    "X_train_normalized =  X_train / 255\n",
    "X_val_normalized =  X_val / 255\n",
    "X_test_normalized = X_test / 255"
   ]
  },
  {
   "cell_type": "markdown",
   "metadata": {},
   "source": [
    "## 1.4 Take a look at the data\n",
    "We can plot the image data to have a better understanding of it."
   ]
  },
  {
   "cell_type": "code",
   "execution_count": 10,
   "metadata": {},
   "outputs": [],
   "source": [
    "## class label related\n",
    "CLASSES = ['plane', 'car', 'bird', 'cat', 'deer', 'dog', 'frog', 'horse', 'ship', 'truck']\n",
    "\n",
    "def index_to_class_name(y):\n",
    "    return CLASSES[y]\n",
    "def class_name_to_index(class_name):\n",
    "    return CLASSES.index(class_name)"
   ]
  },
  {
   "cell_type": "code",
   "execution_count": 11,
   "metadata": {},
   "outputs": [],
   "source": [
    "import math\n",
    "import matplotlib.pyplot as plt\n",
    "import matplotlib.image as mpimg\n",
    "\"\"\"\n",
    "Plotting utilities, if you want to know how these work exactly, check the reference\n",
    "Or the documentations\n",
    "reference: \n",
    "https://matplotlib.org/users/image_tutorial.html\n",
    "https://stackoverflow.com/questions/46615554/how-to-display-multiple-images-in-one-figure-correctly/46616645\n",
    "\"\"\" \n",
    "\n",
    "def show_single_image(data):\n",
    "    # show a single image\n",
    "    ## note that using matplotlib plotting function, we will have to reshape the data as (1,32,32,3)\n",
    "    img = data.reshape(3,32,32).transpose(1,2,0)\n",
    "    imgplot = plt.imshow(img)\n",
    "def show_multiple_images(data, data_y, n_show=12, columns=4):\n",
    "    ## given an array of data, show all of them as images\n",
    "    fig=plt.figure(figsize=(8, 8))\n",
    "    n = min(data.shape[0], n_show)\n",
    "    rows = math.ceil(n/columns)\n",
    "    for i in range(n):\n",
    "        img = data[i].reshape(3,32,32).transpose(1,2,0)\n",
    "        ax = fig.add_subplot(rows, columns, i+1) ## subplot index starts from 1 not 0\n",
    "        class_name = index_to_class_name(data_y[i])\n",
    "        ax.set_title(str(data_y[i])+\": \"+class_name)\n",
    "        plt.imshow(img)\n",
    "    plt.show()"
   ]
  },
  {
   "cell_type": "code",
   "execution_count": 12,
   "metadata": {},
   "outputs": [
    {
     "data": {
      "image/png": "[encoded data removed]",
      "text/plain": [
       "<Figure size 576x576 with 12 Axes>"
      ]
     },
     "metadata": {
      "needs_background": "light"
     },
     "output_type": "display_data"
    }
   ],
   "source": [
    "show_multiple_images(X_train, y_train)"
   ]
  },
  {
   "cell_type": "markdown",
   "metadata": {},
   "source": [
    "## 2.1 Design Network Structure of a MLP Model\n",
    "Reference: https://pytorch.org/tutorials/beginner/blitz/neural_networks_tutorial.html\n",
    "\n",
    "When we use a multi-layer perceptron (a very basic neural net with fully connected layers), we will need to flatten the data so that the MLP can use it. Each data point in our training data is currently in the form of 1x32x32x3, we want to convert it into 1x3072, so that its shape makes sense to our MLP's input layer. Recall that in our MLP, the input size for the first layer is 3072. There are multiple ways of doing this, we can directly flatten all data points, or we can also do the flattening for each mini-batch. \n",
    "\n",
    "In terms of the loss function, since we are doing the task of multi-class classification, we will use the cross entropy loss. \n",
    "\n",
    "We will use nn.CrossEntropyLoss to compute this, refer to Pytorch doc for details. A short summary is \"this criterion combines nn.LogSoftmax() and nn.NLLLoss() in one single class\" That basically means we don't have to worry about softmax layer and the log part. Make sure you read the Pytorch doc to understand exactly how it works. \n",
    "\n",
    "# TODO\n",
    "write your network structure here\n",
    "\n",
    "1. you should only use linear layers (nn.Linear), should use 2 or more linear layers\n",
    "2. and you should use relu as activation\n",
    "3. after the final layer we DON'T HAVE activation\n",
    "4. you should not use softmax here because pytorch's BCE loss includes softmax\n",
    "5. for hidden layer size, anything between 32-256 is OK"
   ]
  },
  {
   "cell_type": "code",
   "execution_count": 13,
   "metadata": {},
   "outputs": [],
   "source": [
    "import torch\n",
    "import torch.nn as nn\n",
    "import torch.nn.functional as F\n",
    "from torch import Tensor\n",
    "import torch.optim as optim\n",
    "\n",
    "class MLP(nn.Module):\n",
    "    ## a very simple MLP model\n",
    "    def __init__(self, input_dim, output_dim):\n",
    "        super(MLP, self).__init__()\n",
    "        self.fc1 = nn.Linear(input_dim, 32)\n",
    "        self.fc2 = nn.Linear(32, output_dim)\n",
    "    def forward(self, x):\n",
    "        x = self.fc1(x)\n",
    "        x = F.relu(x)\n",
    "        x = self.fc2(x)\n",
    "        return x"
   ]
  },
  {
   "cell_type": "code",
   "execution_count": 14,
   "metadata": {},
   "outputs": [],
   "source": [
    "# utility for getting prediction accuracy\n",
    "def get_correct_and_accuracy(y_pred, y):\n",
    "    # y_pred is the nxC prediction scores\n",
    "    # give the number of correct and the accuracy\n",
    "    n = y.shape[0]\n",
    "    # find the prediction class label\n",
    "    _ ,pred_class = y_pred.max(dim=1)\n",
    "    correct = (pred_class == y).sum().item()\n",
    "    return correct ,correct/n"
   ]
  },
  {
   "cell_type": "markdown",
   "metadata": {},
   "source": [
    "## 2.2 Training the MLP model\n",
    "1. We first initialize the neural network, and also the optimizer and the criterion (loss function)\n",
    "2. We then convert data into correct tensor form (note for MLP we need to flatten the image data, from 3x32x32 to 3072)\n",
    "3. We then start doing training iterations\n",
    "\n",
    "# TODO \n",
    "write code here \n",
    "1. init your model\n",
    "2. use Adam optimizer, with lr=1e-3\n",
    "3. use cross entropy criterion\n",
    "4. for X_train, X_val, cast to Tensor and then reshape them to flatten them (change shape to mx3072)\n",
    "5. for y_train, y_val, cast to Tensor and then cast to type long\n",
    "6. simply do 100 iterations"
   ]
  },
  {
   "cell_type": "code",
   "execution_count": 15,
   "metadata": {
    "scrolled": true
   },
   "outputs": [
    {
     "name": "stdout",
     "output_type": "stream",
     "text": [
      "model structure:  MLP(\n",
      "  (fc1): Linear(in_features=3072, out_features=32, bias=True)\n",
      "  (fc2): Linear(in_features=32, out_features=10, bias=True)\n",
      ")\n"
     ]
    }
   ],
   "source": [
    "# init network\n",
    "mlp = MLP(3072, 10)\n",
    "print('model structure: ',mlp)\n",
    "# init optimizer\n",
    "optimizer = optim.Adam(mlp.parameters(), lr=1e-3)\n",
    "# set loss function\n",
    "criterion = nn.CrossEntropyLoss()\n",
    "\n",
    "# prepare for mini-batch stochastic gradient descent\n",
    "n_iteration = 100\n",
    "batch_size = 256\n",
    "n_train_data = X_train_normalized.shape[0]\n",
    "n_batch = int(np.ceil(n_train_data/batch_size))\n",
    "\n",
    "# convert X_train and X_val to tensor and flatten them\n",
    "X_train_tensor = Tensor(X_train_normalized).reshape(-1, 3072)\n",
    "X_val_tensor = Tensor(X_val_normalized).reshape(-1, 3072)\n",
    "# convert training label to tensor and to type long\n",
    "y_train_tensor = Tensor(y_train).long()\n",
    "y_val_tensor = Tensor(y_val).long()"
   ]
  },
  {
   "cell_type": "markdown",
   "metadata": {},
   "source": [
    "# TODO\n",
    "1. Here you will have to write training code \n",
    "2. As well as code to log the training process for later plotting\n",
    "3. After each iteration through training data, you should use that print function to log you current training process"
   ]
  },
  {
   "cell_type": "code",
   "execution_count": 16,
   "metadata": {
    "scrolled": true
   },
   "outputs": [
    {
     "name": "stdout",
     "output_type": "stream",
     "text": [
      "Iter 0 ,Train loss: 2.225, Train acc: 0.180, Val loss: 2.126, Val acc: 0.203\n",
      "Iter 1 ,Train loss: 2.058, Train acc: 0.248, Val loss: 2.016, Val acc: 0.241\n",
      "Iter 2 ,Train loss: 1.977, Train acc: 0.282, Val loss: 1.965, Val acc: 0.265\n",
      "Iter 3 ,Train loss: 1.928, Train acc: 0.307, Val loss: 1.934, Val acc: 0.289\n",
      "Iter 4 ,Train loss: 1.892, Train acc: 0.328, Val loss: 1.908, Val acc: 0.318\n",
      "Iter 5 ,Train loss: 1.861, Train acc: 0.343, Val loss: 1.887, Val acc: 0.324\n",
      "Iter 6 ,Train loss: 1.839, Train acc: 0.354, Val loss: 1.876, Val acc: 0.323\n",
      "Iter 7 ,Train loss: 1.817, Train acc: 0.364, Val loss: 1.861, Val acc: 0.328\n",
      "Iter 8 ,Train loss: 1.799, Train acc: 0.372, Val loss: 1.851, Val acc: 0.332\n",
      "Iter 9 ,Train loss: 1.783, Train acc: 0.378, Val loss: 1.841, Val acc: 0.338\n",
      "Iter 10 ,Train loss: 1.769, Train acc: 0.383, Val loss: 1.832, Val acc: 0.337\n",
      "Iter 11 ,Train loss: 1.758, Train acc: 0.387, Val loss: 1.823, Val acc: 0.338\n",
      "Iter 12 ,Train loss: 1.748, Train acc: 0.391, Val loss: 1.818, Val acc: 0.338\n",
      "Iter 13 ,Train loss: 1.737, Train acc: 0.394, Val loss: 1.812, Val acc: 0.332\n",
      "Iter 14 ,Train loss: 1.729, Train acc: 0.397, Val loss: 1.806, Val acc: 0.339\n",
      "Iter 15 ,Train loss: 1.721, Train acc: 0.400, Val loss: 1.802, Val acc: 0.345\n",
      "Iter 16 ,Train loss: 1.713, Train acc: 0.405, Val loss: 1.798, Val acc: 0.347\n",
      "Iter 17 ,Train loss: 1.706, Train acc: 0.406, Val loss: 1.794, Val acc: 0.348\n",
      "Iter 18 ,Train loss: 1.698, Train acc: 0.408, Val loss: 1.789, Val acc: 0.348\n",
      "Iter 19 ,Train loss: 1.691, Train acc: 0.412, Val loss: 1.783, Val acc: 0.351\n",
      "Iter 20 ,Train loss: 1.684, Train acc: 0.413, Val loss: 1.781, Val acc: 0.357\n",
      "Iter 21 ,Train loss: 1.678, Train acc: 0.416, Val loss: 1.779, Val acc: 0.357\n",
      "Iter 22 ,Train loss: 1.672, Train acc: 0.417, Val loss: 1.776, Val acc: 0.353\n",
      "Iter 23 ,Train loss: 1.667, Train acc: 0.420, Val loss: 1.774, Val acc: 0.354\n",
      "Iter 24 ,Train loss: 1.661, Train acc: 0.422, Val loss: 1.769, Val acc: 0.359\n",
      "Iter 25 ,Train loss: 1.656, Train acc: 0.424, Val loss: 1.766, Val acc: 0.360\n",
      "Iter 26 ,Train loss: 1.651, Train acc: 0.426, Val loss: 1.765, Val acc: 0.362\n",
      "Iter 27 ,Train loss: 1.646, Train acc: 0.428, Val loss: 1.764, Val acc: 0.363\n",
      "Iter 28 ,Train loss: 1.641, Train acc: 0.429, Val loss: 1.763, Val acc: 0.372\n",
      "Iter 29 ,Train loss: 1.637, Train acc: 0.431, Val loss: 1.761, Val acc: 0.375\n",
      "Iter 30 ,Train loss: 1.632, Train acc: 0.433, Val loss: 1.759, Val acc: 0.375\n",
      "Iter 31 ,Train loss: 1.627, Train acc: 0.435, Val loss: 1.758, Val acc: 0.381\n",
      "Iter 32 ,Train loss: 1.623, Train acc: 0.436, Val loss: 1.757, Val acc: 0.378\n",
      "Iter 33 ,Train loss: 1.619, Train acc: 0.437, Val loss: 1.756, Val acc: 0.379\n",
      "Iter 34 ,Train loss: 1.614, Train acc: 0.439, Val loss: 1.755, Val acc: 0.384\n",
      "Iter 35 ,Train loss: 1.611, Train acc: 0.438, Val loss: 1.755, Val acc: 0.382\n",
      "Iter 36 ,Train loss: 1.607, Train acc: 0.439, Val loss: 1.754, Val acc: 0.382\n",
      "Iter 37 ,Train loss: 1.604, Train acc: 0.439, Val loss: 1.754, Val acc: 0.380\n",
      "Iter 38 ,Train loss: 1.599, Train acc: 0.441, Val loss: 1.748, Val acc: 0.386\n",
      "Iter 39 ,Train loss: 1.596, Train acc: 0.443, Val loss: 1.745, Val acc: 0.387\n",
      "Iter 40 ,Train loss: 1.592, Train acc: 0.445, Val loss: 1.743, Val acc: 0.391\n",
      "Iter 41 ,Train loss: 1.590, Train acc: 0.447, Val loss: 1.742, Val acc: 0.388\n",
      "Iter 42 ,Train loss: 1.586, Train acc: 0.447, Val loss: 1.740, Val acc: 0.393\n",
      "Iter 43 ,Train loss: 1.583, Train acc: 0.449, Val loss: 1.738, Val acc: 0.389\n",
      "Iter 44 ,Train loss: 1.580, Train acc: 0.449, Val loss: 1.739, Val acc: 0.387\n",
      "Iter 45 ,Train loss: 1.576, Train acc: 0.452, Val loss: 1.734, Val acc: 0.394\n",
      "Iter 46 ,Train loss: 1.573, Train acc: 0.452, Val loss: 1.734, Val acc: 0.393\n",
      "Iter 47 ,Train loss: 1.570, Train acc: 0.453, Val loss: 1.736, Val acc: 0.392\n",
      "Iter 48 ,Train loss: 1.568, Train acc: 0.455, Val loss: 1.731, Val acc: 0.395\n",
      "Iter 49 ,Train loss: 1.564, Train acc: 0.456, Val loss: 1.732, Val acc: 0.395\n",
      "Iter 50 ,Train loss: 1.561, Train acc: 0.457, Val loss: 1.733, Val acc: 0.395\n",
      "Iter 51 ,Train loss: 1.558, Train acc: 0.458, Val loss: 1.733, Val acc: 0.398\n",
      "Iter 52 ,Train loss: 1.555, Train acc: 0.461, Val loss: 1.730, Val acc: 0.397\n",
      "Iter 53 ,Train loss: 1.553, Train acc: 0.461, Val loss: 1.730, Val acc: 0.398\n",
      "Iter 54 ,Train loss: 1.551, Train acc: 0.461, Val loss: 1.734, Val acc: 0.391\n",
      "Iter 55 ,Train loss: 1.548, Train acc: 0.461, Val loss: 1.733, Val acc: 0.396\n",
      "Iter 56 ,Train loss: 1.546, Train acc: 0.465, Val loss: 1.731, Val acc: 0.396\n",
      "Iter 57 ,Train loss: 1.544, Train acc: 0.464, Val loss: 1.734, Val acc: 0.396\n",
      "Iter 58 ,Train loss: 1.541, Train acc: 0.464, Val loss: 1.733, Val acc: 0.396\n",
      "Iter 59 ,Train loss: 1.538, Train acc: 0.466, Val loss: 1.732, Val acc: 0.400\n",
      "Iter 60 ,Train loss: 1.535, Train acc: 0.466, Val loss: 1.736, Val acc: 0.399\n",
      "Iter 61 ,Train loss: 1.534, Train acc: 0.467, Val loss: 1.735, Val acc: 0.400\n",
      "Iter 62 ,Train loss: 1.532, Train acc: 0.467, Val loss: 1.738, Val acc: 0.389\n",
      "Iter 63 ,Train loss: 1.530, Train acc: 0.469, Val loss: 1.737, Val acc: 0.402\n",
      "Iter 64 ,Train loss: 1.527, Train acc: 0.468, Val loss: 1.738, Val acc: 0.395\n",
      "Iter 65 ,Train loss: 1.524, Train acc: 0.469, Val loss: 1.738, Val acc: 0.395\n",
      "Iter 66 ,Train loss: 1.524, Train acc: 0.467, Val loss: 1.738, Val acc: 0.390\n",
      "Iter 67 ,Train loss: 1.523, Train acc: 0.468, Val loss: 1.739, Val acc: 0.390\n",
      "Iter 68 ,Train loss: 1.520, Train acc: 0.467, Val loss: 1.739, Val acc: 0.397\n",
      "Iter 69 ,Train loss: 1.519, Train acc: 0.468, Val loss: 1.742, Val acc: 0.396\n",
      "Iter 70 ,Train loss: 1.517, Train acc: 0.471, Val loss: 1.743, Val acc: 0.394\n",
      "Iter 71 ,Train loss: 1.516, Train acc: 0.470, Val loss: 1.745, Val acc: 0.398\n",
      "Iter 72 ,Train loss: 1.513, Train acc: 0.472, Val loss: 1.750, Val acc: 0.398\n",
      "Iter 73 ,Train loss: 1.512, Train acc: 0.474, Val loss: 1.746, Val acc: 0.400\n",
      "Iter 74 ,Train loss: 1.508, Train acc: 0.475, Val loss: 1.749, Val acc: 0.401\n",
      "Iter 75 ,Train loss: 1.506, Train acc: 0.476, Val loss: 1.745, Val acc: 0.397\n",
      "Iter 76 ,Train loss: 1.503, Train acc: 0.476, Val loss: 1.747, Val acc: 0.399\n",
      "Iter 77 ,Train loss: 1.501, Train acc: 0.478, Val loss: 1.748, Val acc: 0.402\n",
      "Iter 78 ,Train loss: 1.499, Train acc: 0.479, Val loss: 1.748, Val acc: 0.396\n",
      "Iter 79 ,Train loss: 1.499, Train acc: 0.480, Val loss: 1.747, Val acc: 0.399\n",
      "Iter 80 ,Train loss: 1.495, Train acc: 0.481, Val loss: 1.747, Val acc: 0.400\n",
      "Iter 81 ,Train loss: 1.493, Train acc: 0.482, Val loss: 1.748, Val acc: 0.404\n",
      "Iter 82 ,Train loss: 1.492, Train acc: 0.480, Val loss: 1.747, Val acc: 0.400\n",
      "Iter 83 ,Train loss: 1.492, Train acc: 0.481, Val loss: 1.748, Val acc: 0.403\n",
      "Iter 84 ,Train loss: 1.489, Train acc: 0.483, Val loss: 1.743, Val acc: 0.400\n",
      "Iter 85 ,Train loss: 1.488, Train acc: 0.487, Val loss: 1.745, Val acc: 0.400\n",
      "Iter 86 ,Train loss: 1.485, Train acc: 0.486, Val loss: 1.745, Val acc: 0.400\n",
      "Iter 87 ,Train loss: 1.483, Train acc: 0.487, Val loss: 1.748, Val acc: 0.409\n",
      "Iter 88 ,Train loss: 1.480, Train acc: 0.487, Val loss: 1.747, Val acc: 0.407\n",
      "Iter 89 ,Train loss: 1.480, Train acc: 0.487, Val loss: 1.747, Val acc: 0.405\n",
      "Iter 90 ,Train loss: 1.478, Train acc: 0.489, Val loss: 1.744, Val acc: 0.403\n",
      "Iter 91 ,Train loss: 1.476, Train acc: 0.488, Val loss: 1.746, Val acc: 0.401\n",
      "Iter 92 ,Train loss: 1.474, Train acc: 0.489, Val loss: 1.745, Val acc: 0.401\n",
      "Iter 93 ,Train loss: 1.473, Train acc: 0.489, Val loss: 1.748, Val acc: 0.398\n",
      "Iter 94 ,Train loss: 1.471, Train acc: 0.490, Val loss: 1.747, Val acc: 0.397\n",
      "Iter 95 ,Train loss: 1.470, Train acc: 0.491, Val loss: 1.748, Val acc: 0.398\n",
      "Iter 96 ,Train loss: 1.468, Train acc: 0.493, Val loss: 1.749, Val acc: 0.396\n",
      "Iter 97 ,Train loss: 1.466, Train acc: 0.491, Val loss: 1.750, Val acc: 0.392\n",
      "Iter 98 ,Train loss: 1.463, Train acc: 0.493, Val loss: 1.748, Val acc: 0.396\n",
      "Iter 99 ,Train loss: 1.462, Train acc: 0.494, Val loss: 1.752, Val acc: 0.396\n"
     ]
    }
   ],
   "source": [
    "## start \n",
    "train_loss_list = np.zeros(n_iteration)\n",
    "train_accu_list = np.zeros(n_iteration)\n",
    "val_loss_list = np.zeros(n_iteration)\n",
    "val_accu_list = np.zeros(n_iteration)\n",
    "for i in range(n_iteration):\n",
    "    # first get a minibatch of data\n",
    "    ave_train_loss = 0.0\n",
    "    train_accu = 0.0\n",
    "    for j in range(n_batch):\n",
    "        batch_start_index = j*batch_size\n",
    "        # get data batch from the normalized data\n",
    "        X_batch = X_train_tensor[batch_start_index:batch_start_index+batch_size]\n",
    "        # get ground truth label y\n",
    "        y_batch = y_train_tensor[batch_start_index:batch_start_index+batch_size]\n",
    "        optimizer.zero_grad()\n",
    "        outputs = mlp(X_batch)\n",
    "        _, batch_accu = get_correct_and_accuracy(outputs, y_batch)\n",
    "\n",
    "        loss = criterion(outputs, y_batch)\n",
    "        loss.backward()\n",
    "        optimizer.step()\n",
    "        \n",
    "        ave_train_loss += loss.item()\n",
    "        train_accu += batch_accu\n",
    "\n",
    "    val_outputs = mlp(X_val_tensor)\n",
    "    ave_train_loss /= n_batch\n",
    "    val_loss = criterion(val_outputs, y_val_tensor).item()\n",
    "    _, val_accu = get_correct_and_accuracy(val_outputs, y_val_tensor)\n",
    "    train_accu /= n_batch\n",
    "\n",
    "    print(\"Iter %d ,Train loss: %.3f, Train acc: %.3f, Val loss: %.3f, Val acc: %.3f\" \n",
    "          %(i ,ave_train_loss, train_accu, val_loss, val_accu)) \n",
    "    \n",
    "    ## add to the logs so that we can use them later for plotting\n",
    "    train_loss_list[i] = ave_train_loss\n",
    "    train_accu_list[i] = train_accu\n",
    "    val_loss_list[i] = val_loss\n",
    "    val_accu_list[i] = val_accu\n",
    "    "
   ]
  },
  {
   "cell_type": "markdown",
   "metadata": {},
   "source": [
    "## 2.3 Plotting training process\n",
    "We want to first plot training loss versus validation loss, then plot training accuracy, validation accuracy.\n",
    "\n",
    "# TODO\n",
    "run the plotting functions"
   ]
  },
  {
   "cell_type": "code",
   "execution_count": 17,
   "metadata": {},
   "outputs": [
    {
     "data": {
      "image/png": "[encoded data removed]",
      "text/plain": [
       "<Figure size 432x288 with 1 Axes>"
      ]
     },
     "metadata": {
      "needs_background": "light"
     },
     "output_type": "display_data"
    }
   ],
   "source": [
    "## plot training loss versus validation loss\n",
    "x_axis = np.arange(n_iteration)\n",
    "plt.plot(x_axis, train_loss_list, label='train loss')\n",
    "plt.plot(x_axis, val_loss_list, label='val loss')\n",
    "plt.legend()\n",
    "plt.show()"
   ]
  },
  {
   "cell_type": "code",
   "execution_count": 18,
   "metadata": {},
   "outputs": [
    {
     "data": {
      "image/png": "[encoded data removed]",
      "text/plain": [
       "<Figure size 432x288 with 1 Axes>"
      ]
     },
     "metadata": {
      "needs_background": "light"
     },
     "output_type": "display_data"
    }
   ],
   "source": [
    "## plot training accuracy versus validation accuracy\n",
    "plt.plot(x_axis, train_accu_list, label='train acc')\n",
    "plt.plot(x_axis, val_accu_list, label='val acc')\n",
    "plt.legend()\n",
    "plt.show()"
   ]
  },
  {
   "cell_type": "markdown",
   "metadata": {},
   "source": [
    "## 2.4 Report testing performance\n",
    "We want run the trained model on test data to see how well it does\n",
    "\n",
    "# TODO\n",
    "write code here to report test accuracy on the 10000 test data"
   ]
  },
  {
   "cell_type": "code",
   "execution_count": 19,
   "metadata": {},
   "outputs": [
    {
     "name": "stdout",
     "output_type": "stream",
     "text": [
      "Test accuracy:  0.381\n"
     ]
    }
   ],
   "source": [
    "## test performance on the test set and report final performance\n",
    "X_test_tensor = Tensor(X_test_normalized).reshape(-1, 3072)\n",
    "Y_test_tensot = Tensor(y_test).long()\n",
    "outputs = mlp(X_test_tensor)\n",
    "_, test_accu = get_correct_and_accuracy(outputs, Y_test_tensot)\n",
    "print(\"Test accuracy: \", test_accu)"
   ]
  },
  {
   "cell_type": "markdown",
   "metadata": {},
   "source": [
    "## 3.1 Now we design a convolutional network\n",
    "Check pytorch documentation for usage of each layer\n",
    "\n",
    "# TODO\n",
    "write network structure here\n",
    "you should do:\n",
    "1. use at least 2 conv layer\n",
    "2. at least 1 maxpool layer\n",
    "3. at least 2 linear layer at the end"
   ]
  },
  {
   "cell_type": "code",
   "execution_count": 20,
   "metadata": {},
   "outputs": [],
   "source": [
    "class ConvNet(nn.Module):\n",
    "    def __init__(self):\n",
    "        super(ConvNet, self).__init__()\n",
    "        self.conv1 = nn.Conv2d(3, 32, 3, 1, 1)\n",
    "        self.conv2 = nn.Conv2d(32, 64, 3, 1, 1)\n",
    "        self.pool = nn.MaxPool2d(2, 2)\n",
    "        self.conv3 = nn.Conv2d(64, 128, 3, 1, 1)\n",
    "        self.conv4 = nn.Conv2d(128, 128, 3, 1, 1)\n",
    "        self.conv5 = nn.Conv2d(128, 256, 3, 1, 1)\n",
    "        self.conv6 = nn.Conv2d(256, 256, 3, 1, 1)\n",
    "        self.drop = nn.Dropout2d(p = .5)\n",
    "        self.fc1 = nn.Linear(4*4*256, 1024)\n",
    "        self.fc2 = nn.Linear(1024, 512)\n",
    "        self.fc3 = nn.Linear(512, 10)\n",
    "\n",
    "    def forward(self, x):\n",
    "        x = self.drop(self.pool(F.relu(self.conv2(F.relu(self.conv1(x))))))\n",
    "        x = self.drop(self.pool(F.relu(self.conv4(F.relu(self.conv3(x))))))\n",
    "        x = self.drop(self.pool(F.relu(self.conv6(F.relu(self.conv5(x))))))\n",
    "        x = x.view(-1, 4*4*256)\n",
    "        x = F.relu(self.fc1(x), .5)\n",
    "        x = F.dropout(F.relu(self.fc2(x), .5), .5)\n",
    "        x = self.fc3(x)\n",
    "        return x"
   ]
  },
  {
   "cell_type": "markdown",
   "metadata": {},
   "source": [
    "## 3.2 Training the Convolutional Net model\n",
    "1. We first initialize the neural network, and also the optimizer and the criterion (loss function)\n",
    "2. We then convert data into correct tensor form\n",
    "3. We then start doing training iterations\n",
    "\n",
    "# TODO \n",
    "write code here \n",
    "1. init your model\n",
    "2. use Adam optimizer, with lr=1e-3\n",
    "3. use cross entropy criterion\n",
    "4. for X_train, X_val, cast to Tensor \n",
    "5. for y_train, y_val, cast to Tensor and then cast to type long\n",
    "6. simply do 40 iterations"
   ]
  },
  {
   "cell_type": "code",
   "execution_count": 21,
   "metadata": {},
   "outputs": [
    {
     "name": "stdout",
     "output_type": "stream",
     "text": [
      "model structure:  ConvNet(\n",
      "  (conv1): Conv2d(3, 32, kernel_size=(3, 3), stride=(1, 1), padding=(1, 1))\n",
      "  (conv2): Conv2d(32, 64, kernel_size=(3, 3), stride=(1, 1), padding=(1, 1))\n",
      "  (pool): MaxPool2d(kernel_size=2, stride=2, padding=0, dilation=1, ceil_mode=False)\n",
      "  (conv3): Conv2d(64, 128, kernel_size=(3, 3), stride=(1, 1), padding=(1, 1))\n",
      "  (conv4): Conv2d(128, 128, kernel_size=(3, 3), stride=(1, 1), padding=(1, 1))\n",
      "  (conv5): Conv2d(128, 256, kernel_size=(3, 3), stride=(1, 1), padding=(1, 1))\n",
      "  (conv6): Conv2d(256, 256, kernel_size=(3, 3), stride=(1, 1), padding=(1, 1))\n",
      "  (drop): Dropout2d(p=0.5, inplace=False)\n",
      "  (fc1): Linear(in_features=4096, out_features=1024, bias=True)\n",
      "  (fc2): Linear(in_features=1024, out_features=512, bias=True)\n",
      "  (fc3): Linear(in_features=512, out_features=10, bias=True)\n",
      ")\n",
      "X train tensor shape: torch.Size([9000, 3, 32, 32])\n"
     ]
    }
   ],
   "source": [
    "# init network\n",
    "conv_net = ConvNet().to(device)\n",
    "print('model structure: ', conv_net)\n",
    "# init optimizer\n",
    "optimizer = optim.Adam(conv_net.parameters(), lr=1e-3)\n",
    "# set loss function\n",
    "criterion = nn.CrossEntropyLoss()\n",
    "\n",
    "# prepare for mini-batch stochastic gradient descent\n",
    "n_iteration = 40\n",
    "batch_size = 256\n",
    "n_train_data = X_train_normalized.shape[0]\n",
    "n_batch = int(np.ceil(n_train_data/batch_size))\n",
    "\n",
    "# convert X_train and X_val to tensor and flatten them\n",
    "X_train_tensor = Tensor(X_train_normalized).to(device)\n",
    "X_val_tensor = Tensor(X_val_normalized).to(device)\n",
    "# convert training label to tensor and to type long\n",
    "y_train_tensor = Tensor(y_train).long().to(device)\n",
    "y_val_tensor = Tensor(y_val).long().to(device)\n",
    "\n",
    "print('X train tensor shape:', X_train_tensor.shape)"
   ]
  },
  {
   "cell_type": "markdown",
   "metadata": {},
   "source": [
    "# TODO\n",
    "1. Here you will have to write training code \n",
    "2. As well as code to log the training process for later plotting\n",
    "3. After each iteration through training data, you should use that print function to log you current training process"
   ]
  },
  {
   "cell_type": "code",
   "execution_count": 22,
   "metadata": {
    "scrolled": true
   },
   "outputs": [
    {
     "name": "stdout",
     "output_type": "stream",
     "text": [
      "Iter 0 ,Train loss: 2.288, Train acc: 0.124, Val loss: 2.194, Val acc: 0.213\n",
      "Iter 1 ,Train loss: 2.108, Train acc: 0.216, Val loss: 2.074, Val acc: 0.201\n",
      "Iter 2 ,Train loss: 2.007, Train acc: 0.256, Val loss: 1.946, Val acc: 0.283\n",
      "Iter 3 ,Train loss: 1.911, Train acc: 0.287, Val loss: 1.890, Val acc: 0.278\n",
      "Iter 4 ,Train loss: 1.832, Train acc: 0.324, Val loss: 1.837, Val acc: 0.297\n",
      "Iter 5 ,Train loss: 1.773, Train acc: 0.341, Val loss: 1.802, Val acc: 0.335\n",
      "Iter 6 ,Train loss: 1.709, Train acc: 0.365, Val loss: 1.693, Val acc: 0.367\n",
      "Iter 7 ,Train loss: 1.654, Train acc: 0.396, Val loss: 1.641, Val acc: 0.396\n",
      "Iter 8 ,Train loss: 1.605, Train acc: 0.406, Val loss: 1.624, Val acc: 0.401\n",
      "Iter 9 ,Train loss: 1.584, Train acc: 0.414, Val loss: 1.609, Val acc: 0.418\n",
      "Iter 10 ,Train loss: 1.538, Train acc: 0.436, Val loss: 1.578, Val acc: 0.438\n",
      "Iter 11 ,Train loss: 1.488, Train acc: 0.455, Val loss: 1.562, Val acc: 0.435\n",
      "Iter 12 ,Train loss: 1.449, Train acc: 0.466, Val loss: 1.556, Val acc: 0.441\n",
      "Iter 13 ,Train loss: 1.413, Train acc: 0.488, Val loss: 1.544, Val acc: 0.440\n",
      "Iter 14 ,Train loss: 1.396, Train acc: 0.497, Val loss: 1.518, Val acc: 0.466\n",
      "Iter 15 ,Train loss: 1.377, Train acc: 0.496, Val loss: 1.441, Val acc: 0.470\n",
      "Iter 16 ,Train loss: 1.340, Train acc: 0.513, Val loss: 1.487, Val acc: 0.469\n",
      "Iter 17 ,Train loss: 1.296, Train acc: 0.529, Val loss: 1.513, Val acc: 0.469\n",
      "Iter 18 ,Train loss: 1.289, Train acc: 0.534, Val loss: 1.426, Val acc: 0.501\n",
      "Iter 19 ,Train loss: 1.242, Train acc: 0.555, Val loss: 1.434, Val acc: 0.493\n",
      "Iter 20 ,Train loss: 1.214, Train acc: 0.555, Val loss: 1.410, Val acc: 0.521\n",
      "Iter 21 ,Train loss: 1.196, Train acc: 0.570, Val loss: 1.419, Val acc: 0.488\n",
      "Iter 22 ,Train loss: 1.149, Train acc: 0.581, Val loss: 1.491, Val acc: 0.482\n",
      "Iter 23 ,Train loss: 1.112, Train acc: 0.603, Val loss: 1.407, Val acc: 0.523\n",
      "Iter 24 ,Train loss: 1.075, Train acc: 0.607, Val loss: 1.388, Val acc: 0.514\n",
      "Iter 25 ,Train loss: 1.028, Train acc: 0.633, Val loss: 1.375, Val acc: 0.524\n",
      "Iter 26 ,Train loss: 0.994, Train acc: 0.643, Val loss: 1.483, Val acc: 0.517\n",
      "Iter 27 ,Train loss: 0.957, Train acc: 0.657, Val loss: 1.406, Val acc: 0.538\n",
      "Iter 28 ,Train loss: 0.946, Train acc: 0.664, Val loss: 1.406, Val acc: 0.543\n",
      "Iter 29 ,Train loss: 0.900, Train acc: 0.683, Val loss: 1.488, Val acc: 0.526\n",
      "Iter 30 ,Train loss: 0.872, Train acc: 0.691, Val loss: 1.444, Val acc: 0.529\n",
      "Iter 31 ,Train loss: 0.835, Train acc: 0.698, Val loss: 1.448, Val acc: 0.528\n",
      "Iter 32 ,Train loss: 0.796, Train acc: 0.712, Val loss: 1.464, Val acc: 0.546\n",
      "Iter 33 ,Train loss: 0.778, Train acc: 0.725, Val loss: 1.499, Val acc: 0.534\n",
      "Iter 34 ,Train loss: 0.734, Train acc: 0.736, Val loss: 1.590, Val acc: 0.531\n",
      "Iter 35 ,Train loss: 0.717, Train acc: 0.745, Val loss: 1.558, Val acc: 0.548\n",
      "Iter 36 ,Train loss: 0.669, Train acc: 0.763, Val loss: 1.626, Val acc: 0.525\n",
      "Iter 37 ,Train loss: 0.645, Train acc: 0.771, Val loss: 1.671, Val acc: 0.526\n",
      "Iter 38 ,Train loss: 0.626, Train acc: 0.777, Val loss: 1.636, Val acc: 0.529\n",
      "Iter 39 ,Train loss: 0.603, Train acc: 0.785, Val loss: 1.732, Val acc: 0.522\n"
     ]
    }
   ],
   "source": [
    "## start \n",
    "train_loss_list = np.zeros(n_iteration)\n",
    "train_accu_list = np.zeros(n_iteration)\n",
    "val_loss_list = np.zeros(n_iteration)\n",
    "val_accu_list = np.zeros(n_iteration)\n",
    "for i in range(n_iteration):\n",
    "    # first get a minibatch of data\n",
    "    ave_train_loss = 0.0\n",
    "    train_accu = 0.0\n",
    "    for j in range(n_batch):\n",
    "        batch_start_index = j*batch_size\n",
    "        # get data batch from the normalized data\n",
    "        X_batch = X_train_tensor[batch_start_index:batch_start_index+batch_size]\n",
    "        # get ground truth label y\n",
    "        y_batch = y_train_tensor[batch_start_index:batch_start_index+batch_size]\n",
    "        optimizer.zero_grad()\n",
    "        outputs = conv_net(X_batch)\n",
    "        _, batch_accu = get_correct_and_accuracy(outputs, y_batch)\n",
    "\n",
    "        loss = criterion(outputs, y_batch)\n",
    "        loss.backward()\n",
    "        optimizer.step()\n",
    "        \n",
    "        ave_train_loss += loss.item()\n",
    "        train_accu += batch_accu\n",
    "        \n",
    "\n",
    "    val_outputs = conv_net(X_val_tensor)\n",
    "    ave_train_loss /= n_batch\n",
    "    val_loss = criterion(val_outputs, y_val_tensor).item()\n",
    "    _, val_accu = get_correct_and_accuracy(val_outputs, y_val_tensor)\n",
    "    train_accu /= n_batch\n",
    "    torch.cuda.empty_cache()\n",
    "    print(\"Iter %d ,Train loss: %.3f, Train acc: %.3f, Val loss: %.3f, Val acc: %.3f\" \n",
    "          %(i ,ave_train_loss, train_accu, val_loss, val_accu)) \n",
    "    \n",
    "    ## add to the logs so that we can use them later for plotting\n",
    "    train_loss_list[i] = ave_train_loss\n",
    "    train_accu_list[i] = train_accu\n",
    "    val_loss_list[i] = val_loss\n",
    "    val_accu_list[i] = val_accu\n",
    "    "
   ]
  },
  {
   "cell_type": "markdown",
   "metadata": {},
   "source": [
    "## 3.3 Plotting training process\n",
    "We want to first plot training loss versus validation loss, then plot training accuracy, validation accuracy.\n",
    "\n",
    "# TODO \n",
    "run the code here for plotting"
   ]
  },
  {
   "cell_type": "code",
   "execution_count": 23,
   "metadata": {},
   "outputs": [
    {
     "data": {
      "image/png": "[encoded data removed]",
      "text/plain": [
       "<Figure size 432x288 with 1 Axes>"
      ]
     },
     "metadata": {
      "needs_background": "light"
     },
     "output_type": "display_data"
    }
   ],
   "source": [
    "## plot training loss versus validation loss\n",
    "x_axis = np.arange(n_iteration)\n",
    "plt.plot(x_axis, train_loss_list, label='train loss')\n",
    "plt.plot(x_axis, val_loss_list, label='val loss')\n",
    "plt.legend()\n",
    "plt.show()"
   ]
  },
  {
   "cell_type": "code",
   "execution_count": 24,
   "metadata": {},
   "outputs": [
    {
     "data": {
      "image/png": "[encoded data removed]",
      "text/plain": [
       "<Figure size 432x288 with 1 Axes>"
      ]
     },
     "metadata": {
      "needs_background": "light"
     },
     "output_type": "display_data"
    }
   ],
   "source": [
    "## plot training accuracy versus validation accuracy\n",
    "plt.plot(x_axis, train_accu_list, label='train acc')\n",
    "plt.plot(x_axis, val_accu_list, label='val acc')\n",
    "plt.legend()\n",
    "plt.show()"
   ]
  },
  {
   "cell_type": "markdown",
   "metadata": {},
   "source": [
    "## 3.4 Report testing performance\n",
    "We want run the trained model on test data to see how well it does\n",
    "\n",
    "# TODO\n",
    "write code here to report test accuracy on the 10000 test data"
   ]
  },
  {
   "cell_type": "code",
   "execution_count": 25,
   "metadata": {},
   "outputs": [
    {
     "name": "stdout",
     "output_type": "stream",
     "text": [
      "Test accuracy:  0.518\n"
     ]
    }
   ],
   "source": [
    "## test performance on the test set and report final performance\n",
    "torch.cuda.empty_cache()\n",
    "X_test_tensor = Tensor(X_test_normalized).to(device)\n",
    "Y_test_tensot = Tensor(y_test).long().to(device)\n",
    "\n",
    "tot_acc = 0\n",
    "batch = 1000\n",
    "\n",
    "for i in range(0, 10000, 1000):\n",
    "    outputs = conv_net(X_test_tensor[i:i+1000])\n",
    "    _, test_accu = get_correct_and_accuracy(outputs, Y_test_tensot[i:i+1000])\n",
    "    tot_acc += test_accu\n",
    "tot_acc /= (10000/1000)\n",
    "print(\"Test accuracy: \", test_accu)"
   ]
  },
  {
   "cell_type": "markdown",
   "metadata": {},
   "source": [
    "## Other things you can do to improve model performance: \n",
    "1. Add in regularization, you can use l2, Dropout\n",
    "2. Use a better data normalization method\n",
    "3. Train on more data\n",
    "4. Do data augmentation to get more data\n",
    "5. Use a more powerful network structure\n",
    "6. Do transfer learning"
   ]
  },
  {
   "cell_type": "code",
   "execution_count": null,
   "metadata": {},
   "outputs": [],
   "source": []
  },
  {
   "cell_type": "code",
   "execution_count": null,
   "metadata": {},
   "outputs": [],
   "source": []
  }
 ],
 "metadata": {
  "kernelspec": {
   "display_name": "Python 3",
   "language": "python",
   "name": "python3"
  },
  "language_info": {
   "codemirror_mode": {
    "name": "ipython",
    "version": 3
   },
   "file_extension": ".py",
   "mimetype": "text/x-python",
   "name": "python",
   "nbconvert_exporter": "python",
   "pygments_lexer": "ipython3",
   "version": "3.6.10"
  }
 },
 "nbformat": 4,
 "nbformat_minor": 2
}
